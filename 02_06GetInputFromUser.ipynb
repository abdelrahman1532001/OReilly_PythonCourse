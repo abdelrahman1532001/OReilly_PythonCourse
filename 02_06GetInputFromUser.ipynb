{
 "cells": [
  {
   "cell_type": "code",
   "execution_count": 19,
   "id": "2618239b-aff8-491d-9f70-cdffa0fe1fcb",
   "metadata": {
    "scrolled": true
   },
   "outputs": [
    {
     "name": "stdin",
     "output_type": "stream",
     "text": [
      "what's your name?  abdelrahman\n"
     ]
    }
   ],
   "source": [
    "# print the string and take input from user and store it in 'name' variable\n",
    "name = input(\"what's your name? \")"
   ]
  },
  {
   "cell_type": "code",
   "execution_count": 20,
   "id": "fad1b8d3-872a-4928-971f-bf0d289316ed",
   "metadata": {
    "scrolled": true
   },
   "outputs": [
    {
     "name": "stdout",
     "output_type": "stream",
     "text": [
      "abdelrahman\n"
     ]
    }
   ],
   "source": [
    "# print the 'name' variable\n",
    "print(name)"
   ]
  },
  {
   "cell_type": "code",
   "execution_count": 21,
   "id": "2ecd7abf-c223-4b12-b23f-b5d0eb18dcbc",
   "metadata": {
    "scrolled": true
   },
   "outputs": [
    {
     "name": "stdin",
     "output_type": "stream",
     "text": [
      "val1 =  5\n",
      "val2 =  5\n"
     ]
    },
    {
     "name": "stdout",
     "output_type": "stream",
     "text": [
      "sum = 55\n"
     ]
    }
   ],
   "source": [
    "# take two string values from the user and print addition\n",
    "# 5 + 5 = 55, incase of string values\n",
    "val1 = input(\"val1 = \")\n",
    "val2 = input(\"val2 = \")\n",
    "print(f\"sum = {val1 + val2}\")"
   ]
  },
  {
   "cell_type": "code",
   "execution_count": 22,
   "id": "d26ad284-0c5f-4129-819b-617ae6173961",
   "metadata": {
    "scrolled": true
   },
   "outputs": [
    {
     "name": "stdout",
     "output_type": "stream",
     "text": [
      "sum = 10\n"
     ]
    }
   ],
   "source": [
    "# convert the string values to integer first then addition\n",
    "# 5 + 5 = 10, incase of integer values\n",
    "val1 = int(val1)\n",
    "val2 = int(val2)\n",
    "print(f\"sum = {val1 + val2}\")"
   ]
  },
  {
   "cell_type": "code",
   "execution_count": 23,
   "id": "75f21b68-c872-4269-b1d2-58addaae719c",
   "metadata": {
    "scrolled": true
   },
   "outputs": [
    {
     "name": "stdin",
     "output_type": "stream",
     "text": [
      "Enter your integer value1 :  15\n",
      "Enter your integer value2 :  4\n"
     ]
    },
    {
     "name": "stdout",
     "output_type": "stream",
     "text": [
      "sum = 19\n"
     ]
    }
   ],
   "source": [
    "# you can take an integer directly from user like this\n",
    "# 15 + 4 = 19, incase of integer values\n",
    "intVal1 = int(input(\"Enter your integer value1 : \"))\n",
    "intVal2 = int(input(\"Enter your integer value2 : \"))\n",
    "print(f\"sum = {intVal1 + intVal2}\")"
   ]
  },
  {
   "cell_type": "code",
   "execution_count": 24,
   "id": "b5cb5a00-1093-46d7-9e63-f87234ea9066",
   "metadata": {
    "scrolled": true
   },
   "outputs": [
    {
     "name": "stdout",
     "output_type": "stream",
     "text": [
      "sum = 154\n"
     ]
    }
   ],
   "source": [
    "# now convert them to string and try to print the summation\n",
    "# 15 + 4 = 154, incase of string values\n",
    "intVal1 = str(intVal1)\n",
    "intVal2 = str(intVal2)\n",
    "print(f\"sum = {intVal1 + intVal2}\")"
   ]
  },
  {
   "cell_type": "code",
   "execution_count": 26,
   "id": "56efa249-76e8-4a80-b5d2-dced15fae186",
   "metadata": {
    "scrolled": true
   },
   "outputs": [
    {
     "name": "stdin",
     "output_type": "stream",
     "text": [
      "Enter integer value :  hello\n"
     ]
    },
    {
     "ename": "ValueError",
     "evalue": "invalid literal for int() with base 10: 'hello'",
     "output_type": "error",
     "traceback": [
      "\u001b[0;31m---------------------------------------------------------------------------\u001b[0m",
      "\u001b[0;31mValueError\u001b[0m                                Traceback (most recent call last)",
      "Cell \u001b[0;32mIn[26], line 3\u001b[0m\n\u001b[1;32m      1\u001b[0m \u001b[38;5;66;03m# NOTE THAT IF YOU  TRY TO INPUT ANY VALUE EXCEPT NUMERIC VALUSE YOU\u001b[39;00m\n\u001b[1;32m      2\u001b[0m \u001b[38;5;66;03m# WILL GET A 'ValueError' CAUSE 'int()' FUNCTION ACCEPT NUMERIC ONLY\u001b[39;00m\n\u001b[0;32m----> 3\u001b[0m integerVal \u001b[38;5;241m=\u001b[39m \u001b[38;5;28mint\u001b[39m(\u001b[38;5;28minput\u001b[39m(\u001b[38;5;124m\"\u001b[39m\u001b[38;5;124mEnter integer value : \u001b[39m\u001b[38;5;124m\"\u001b[39m))\n\u001b[1;32m      4\u001b[0m \u001b[38;5;28mprint\u001b[39m(\u001b[38;5;124mf\u001b[39m\u001b[38;5;124m\"\u001b[39m\u001b[38;5;124mintegerVal = \u001b[39m\u001b[38;5;132;01m{\u001b[39;00mintegerVal\u001b[38;5;132;01m}\u001b[39;00m\u001b[38;5;124m\"\u001b[39m)\n",
      "\u001b[0;31mValueError\u001b[0m: invalid literal for int() with base 10: 'hello'"
     ]
    }
   ],
   "source": [
    "# NOTE THAT IF YOU  TRY TO INPUT ANY VALUE EXCEPT NUMERIC VALUSE YOU\n",
    "# WILL GET A 'ValueError' CAUSE 'int()' FUNCTION ACCEPT NUMERIC ONLY\n",
    "integerVal = int(input(\"Enter integer value : \"))\n",
    "print(f\"integerVal = {integerVal}\")"
   ]
  },
  {
   "cell_type": "code",
   "execution_count": 27,
   "id": "7b107d38-7d84-4007-96f0-904c481d447f",
   "metadata": {
    "scrolled": true
   },
   "outputs": [
    {
     "data": {
      "text/plain": [
       "20.46"
      ]
     },
     "execution_count": 27,
     "metadata": {},
     "output_type": "execute_result"
    }
   ],
   "source": [
    "float('6.2') * 3.3"
   ]
  },
  {
   "cell_type": "code",
   "execution_count": 29,
   "id": "b68a0961-2ab8-4b29-996c-e8e00d7f96df",
   "metadata": {
    "scrolled": true
   },
   "outputs": [
    {
     "data": {
      "text/plain": [
       "20.46"
      ]
     },
     "execution_count": 29,
     "metadata": {},
     "output_type": "execute_result"
    }
   ],
   "source": [
    "6.2 * 3.3"
   ]
  }
 ],
 "metadata": {
  "kernelspec": {
   "display_name": "Python 3 (ipykernel)",
   "language": "python",
   "name": "python3"
  },
  "language_info": {
   "codemirror_mode": {
    "name": "ipython",
    "version": 3
   },
   "file_extension": ".py",
   "mimetype": "text/x-python",
   "name": "python",
   "nbconvert_exporter": "python",
   "pygments_lexer": "ipython3",
   "version": "3.11.5"
  }
 },
 "nbformat": 4,
 "nbformat_minor": 5
}
