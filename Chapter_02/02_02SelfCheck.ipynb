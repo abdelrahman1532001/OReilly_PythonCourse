{
 "cells": [
  {
   "cell_type": "code",
   "execution_count": 3,
   "id": "249b67e9-455a-4a6a-91ad-b56d1e5c277d",
   "metadata": {},
   "outputs": [],
   "source": [
    "total = 10.8 + 12.2 + 0.2"
   ]
  },
  {
   "cell_type": "code",
   "execution_count": 4,
   "id": "f1128984-4bc3-4f59-a342-5ea1ae63ea7b",
   "metadata": {},
   "outputs": [
    {
     "data": {
      "text/plain": [
       "23.2"
      ]
     },
     "execution_count": 4,
     "metadata": {},
     "output_type": "execute_result"
    }
   ],
   "source": [
    "total"
   ]
  }
 ],
 "metadata": {
  "kernelspec": {
   "display_name": "Python 3 (ipykernel)",
   "language": "python",
   "name": "python3"
  },
  "language_info": {
   "codemirror_mode": {
    "name": "ipython",
    "version": 3
   },
   "file_extension": ".py",
   "mimetype": "text/x-python",
   "name": "python",
   "nbconvert_exporter": "python",
   "pygments_lexer": "ipython3",
   "version": "3.11.5"
  }
 },
 "nbformat": 4,
 "nbformat_minor": 5
}
