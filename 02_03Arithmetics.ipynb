{
 "cells": [
  {
   "cell_type": "code",
   "execution_count": 7,
   "id": "a8407727-441d-4f4a-b5fd-8b667edb9f9e",
   "metadata": {},
   "outputs": [
    {
     "data": {
      "text/plain": [
       "-3"
      ]
     },
     "execution_count": 7,
     "metadata": {},
     "output_type": "execute_result"
    }
   ],
   "source": [
    "3 * (4 - 5)"
   ]
  },
  {
   "cell_type": "code",
   "execution_count": 8,
   "id": "593937ca-7e28-446e-bbbf-fb2bfc261171",
   "metadata": {},
   "outputs": [
    {
     "data": {
      "text/plain": [
       "7"
      ]
     },
     "execution_count": 8,
     "metadata": {},
     "output_type": "execute_result"
    }
   ],
   "source": [
    "3 * 4 - 5"
   ]
  },
  {
   "cell_type": "code",
   "execution_count": 9,
   "id": "9e2f4cd7-9ddb-4d8b-8478-d6349e23abf8",
   "metadata": {},
   "outputs": [
    {
     "data": {
      "text/plain": [
       "262144"
      ]
     },
     "execution_count": 9,
     "metadata": {},
     "output_type": "execute_result"
    }
   ],
   "source": [
    "4 ** 3 ** 2 # from right to left"
   ]
  },
  {
   "cell_type": "code",
   "execution_count": 10,
   "id": "e0b338d5-09b7-4dc6-a9cb-64991c267de3",
   "metadata": {},
   "outputs": [
    {
     "data": {
      "text/plain": [
       "4096"
      ]
     },
     "execution_count": 10,
     "metadata": {},
     "output_type": "execute_result"
    }
   ],
   "source": [
    "(4 ** 3) ** 2 # parentheses first"
   ]
  },
  {
   "cell_type": "code",
   "execution_count": 11,
   "id": "239f4c85-8be8-4987-80ca-82c64133069d",
   "metadata": {},
   "outputs": [
    {
     "data": {
      "text/plain": [
       "262144"
      ]
     },
     "execution_count": 11,
     "metadata": {},
     "output_type": "execute_result"
    }
   ],
   "source": [
    "4 ** (3 ** 2) # parentheses first"
   ]
  },
  {
   "cell_type": "code",
   "execution_count": null,
   "id": "b7aa3e3f-d5c0-4336-b1cf-8dac5ad7f6bf",
   "metadata": {},
   "outputs": [],
   "source": []
  }
 ],
 "metadata": {
  "kernelspec": {
   "display_name": "Python 3 (ipykernel)",
   "language": "python",
   "name": "python3"
  },
  "language_info": {
   "codemirror_mode": {
    "name": "ipython",
    "version": 3
   },
   "file_extension": ".py",
   "mimetype": "text/x-python",
   "name": "python",
   "nbconvert_exporter": "python",
   "pygments_lexer": "ipython3",
   "version": "3.11.5"
  }
 },
 "nbformat": 4,
 "nbformat_minor": 5
}
