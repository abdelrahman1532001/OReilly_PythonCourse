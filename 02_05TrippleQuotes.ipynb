{
 "cells": [
  {
   "cell_type": "markdown",
   "id": "840f5974-5bd3-49b3-8835-f2a264882729",
   "metadata": {},
   "source": [
    "### the triple  quotes \"\"\"  \"\"\"  can\n",
    "### embedded  the new line  when you \n",
    "### print  the string  but when  you \n",
    "### use  backslash \\ before  a new \n",
    "### line, this line will be canceled"
   ]
  },
  {
   "cell_type": "code",
   "execution_count": 3,
   "id": "e7d5b807-0999-4b0b-91d0-40dd8e3d47ca",
   "metadata": {},
   "outputs": [
    {
     "name": "stdout",
     "output_type": "stream",
     "text": [
      "This is a lengthy\n",
      "    multiline string containing\n",
      "a few lines of text\n"
     ]
    }
   ],
   "source": [
    "print(\"\"\"This is a lengthy\n",
    "    multiline string containing\n",
    "a few lines \\\n",
    "of text\"\"\")"
   ]
  },
  {
   "cell_type": "code",
   "execution_count": 4,
   "id": "193a3e3f-bc21-4525-b003-225a445d3267",
   "metadata": {},
   "outputs": [],
   "source": [
    "string = \"\"\"This is a lengthy\n",
    "    multiline string containing\n",
    "a few lines \\\n",
    "of text\"\"\""
   ]
  },
  {
   "cell_type": "code",
   "execution_count": 6,
   "id": "ea61ab1f-1a52-427d-b6bd-11ab514d4bf7",
   "metadata": {},
   "outputs": [
    {
     "data": {
      "text/plain": [
       "'This is a lengthy\\n    multiline string containing\\na few lines of text'"
      ]
     },
     "execution_count": 6,
     "metadata": {},
     "output_type": "execute_result"
    }
   ],
   "source": [
    "string # This is how stored in memory"
   ]
  }
 ],
 "metadata": {
  "kernelspec": {
   "display_name": "Python 3 (ipykernel)",
   "language": "python",
   "name": "python3"
  },
  "language_info": {
   "codemirror_mode": {
    "name": "ipython",
    "version": 3
   },
   "file_extension": ".py",
   "mimetype": "text/x-python",
   "name": "python",
   "nbconvert_exporter": "python",
   "pygments_lexer": "ipython3",
   "version": "3.11.5"
  }
 },
 "nbformat": 4,
 "nbformat_minor": 5
}
